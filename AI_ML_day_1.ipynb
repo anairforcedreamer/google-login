{
  "nbformat": 4,
  "nbformat_minor": 0,
  "metadata": {
    "colab": {
      "provenance": [],
      "authorship_tag": "ABX9TyOBYWOzsf0w/cdwFkBJC1nG",
      "include_colab_link": true
    },
    "kernelspec": {
      "name": "python3",
      "display_name": "Python 3"
    },
    "language_info": {
      "name": "python"
    }
  },
  "cells": [
    {
      "cell_type": "markdown",
      "metadata": {
        "id": "view-in-github",
        "colab_type": "text"
      },
      "source": [
        "<a href=\"https://colab.research.google.com/github/anairforcedreamer/google-login/blob/master/AI_ML_day_1.ipynb\" target=\"_parent\"><img src=\"https://colab.research.google.com/assets/colab-badge.svg\" alt=\"Open In Colab\"/></a>"
      ]
    },
    {
      "cell_type": "code",
      "execution_count": 4,
      "metadata": {
        "colab": {
          "base_uri": "https://localhost:8080/",
          "height": 53
        },
        "id": "4XJYCSs4engc",
        "outputId": "9b69e37e-8bc6-4493-b717-18b4becd228d"
      },
      "outputs": [
        {
          "output_type": "stream",
          "name": "stdout",
          "text": [
            "welcome to session\n"
          ]
        },
        {
          "output_type": "execute_result",
          "data": {
            "text/plain": [
              "'hello'"
            ],
            "application/vnd.google.colaboratory.intrinsic+json": {
              "type": "string"
            }
          },
          "metadata": {},
          "execution_count": 4
        }
      ],
      "source": [
        "print('welcome to session')\n",
        "\"hello\"\n"
      ]
    },
    {
      "cell_type": "code",
      "source": [
        "print(\"welcome\", \"to\",\"the\", \"session\",sep=\"-\")"
      ],
      "metadata": {
        "colab": {
          "base_uri": "https://localhost:8080/"
        },
        "id": "wr7sq22cg_VG",
        "outputId": "98b88d86-c3eb-49a0-a300-c7db9a582903"
      },
      "execution_count": 6,
      "outputs": [
        {
          "output_type": "stream",
          "name": "stdout",
          "text": [
            "welcome-to-the-session\n"
          ]
        }
      ]
    },
    {
      "cell_type": "code",
      "source": [
        "age=40\n",
        "type(age)"
      ],
      "metadata": {
        "colab": {
          "base_uri": "https://localhost:8080/"
        },
        "id": "5BGIdmDwhyeH",
        "outputId": "a348fe71-c75c-4547-8783-8503ef984653"
      },
      "execution_count": 8,
      "outputs": [
        {
          "output_type": "execute_result",
          "data": {
            "text/plain": [
              "int"
            ]
          },
          "metadata": {},
          "execution_count": 8
        }
      ]
    },
    {
      "cell_type": "code",
      "source": [
        "tot_revenue=35000\n",
        "name=\"Rose and Lillies\"\n",
        "print(name,tot_revenue,sep=\"-\")\n"
      ],
      "metadata": {
        "colab": {
          "base_uri": "https://localhost:8080/"
        },
        "id": "UYa50oewh76r",
        "outputId": "ecda34c0-5baa-40fb-915c-2bac2fc53a18"
      },
      "execution_count": 12,
      "outputs": [
        {
          "output_type": "stream",
          "name": "stdout",
          "text": [
            "Rose and Lillies-35000\n"
          ]
        }
      ]
    },
    {
      "cell_type": "code",
      "source": [
        "print(f\"my business name is(name)and my revenue is 35000\")"
      ],
      "metadata": {
        "colab": {
          "base_uri": "https://localhost:8080/"
        },
        "id": "ldHDlUnsiRaR",
        "outputId": "96c978fe-963a-45ad-e240-6e08df4e1f4e"
      },
      "execution_count": 13,
      "outputs": [
        {
          "output_type": "stream",
          "name": "stdout",
          "text": [
            "my business name is(name)and my revenue is 35000\n"
          ]
        }
      ]
    },
    {
      "cell_type": "code",
      "source": [
        "print(\"my business{} has revenue of {} rupees\". format(name,tot_revenue))"
      ],
      "metadata": {
        "colab": {
          "base_uri": "https://localhost:8080/"
        },
        "id": "anr8YVmKisyA",
        "outputId": "ebf1fad2-d150-4f04-e891-1b8c7e509b50"
      },
      "execution_count": 16,
      "outputs": [
        {
          "output_type": "stream",
          "name": "stdout",
          "text": [
            "my businessRose and Lillies has revenue of 35000 rupees\n"
          ]
        }
      ]
    },
    {
      "cell_type": "code",
      "source": [
        "message =\"its good to see u all. please come tomorrow. it will be good.\"\n",
        "len(message)\n",
        "message[0]\n",
        "message[-1]"
      ],
      "metadata": {
        "colab": {
          "base_uri": "https://localhost:8080/",
          "height": 35
        },
        "id": "YKgkeTJGxHmY",
        "outputId": "e6118d0e-33f0-4617-eb83-815188701499"
      },
      "execution_count": 21,
      "outputs": [
        {
          "output_type": "execute_result",
          "data": {
            "text/plain": [
              "'.'"
            ],
            "application/vnd.google.colaboratory.intrinsic+json": {
              "type": "string"
            }
          },
          "metadata": {},
          "execution_count": 21
        }
      ]
    },
    {
      "cell_type": "code",
      "source": [
        "message[0:15]"
      ],
      "metadata": {
        "colab": {
          "base_uri": "https://localhost:8080/",
          "height": 35
        },
        "id": "OSz59Du9x10m",
        "outputId": "20ec1262-6e97-456e-a6bb-540e60e5da47"
      },
      "execution_count": 22,
      "outputs": [
        {
          "output_type": "execute_result",
          "data": {
            "text/plain": [
              "'its good to see'"
            ],
            "application/vnd.google.colaboratory.intrinsic+json": {
              "type": "string"
            }
          },
          "metadata": {},
          "execution_count": 22
        }
      ]
    },
    {
      "cell_type": "code",
      "source": [
        "message2=\"see u tomorrow\"\n",
        "new_msg=message+message2\n",
        "new_msg\n",
        "print(len(message))"
      ],
      "metadata": {
        "colab": {
          "base_uri": "https://localhost:8080/"
        },
        "id": "TQkTBRtvy1La",
        "outputId": "31fc4990-ddf5-4277-b1dc-9e016abacc00"
      },
      "execution_count": 26,
      "outputs": [
        {
          "output_type": "stream",
          "name": "stdout",
          "text": [
            "61\n"
          ]
        }
      ]
    },
    {
      "cell_type": "code",
      "source": [
        "print(message.split(\",\"))\n",
        "print(message.find(\"tomorrow\"))\n",
        "print(message.replace(\"tomorrow\",\"next day\"))\n",
        "print(message.upper())"
      ],
      "metadata": {
        "colab": {
          "base_uri": "https://localhost:8080/"
        },
        "id": "A77MDtBAzffp",
        "outputId": "59ab8de9-33df-46d9-b2c7-aa2aeef4d8cf"
      },
      "execution_count": 30,
      "outputs": [
        {
          "output_type": "stream",
          "name": "stdout",
          "text": [
            "['its good to see u all. please come tomorrow. it will be good.']\n",
            "35\n",
            "its good to see u all. please come next day. it will be good.\n",
            "ITS GOOD TO SEE U ALL. PLEASE COME TOMORROW. IT WILL BE GOOD.\n"
          ]
        }
      ]
    },
    {
      "cell_type": "code",
      "source": [
        "fruits = [\"apple\", \"banana\", \"cherry\"]\n",
        "print(fruits)\n",
        "fruits.append(\"orange\")\n",
        "print(fruits)"
      ],
      "metadata": {
        "colab": {
          "base_uri": "https://localhost:8080/"
        },
        "id": "tVywo-Jx06YU",
        "outputId": "0e3d0f8c-37e2-4cf6-96e5-fe1a66bfbbe7"
      },
      "execution_count": 34,
      "outputs": [
        {
          "output_type": "stream",
          "name": "stdout",
          "text": [
            "['apple', 'banana', 'cherry']\n",
            "['apple', 'banana', 'cherry', 'orange']\n"
          ]
        }
      ]
    },
    {
      "cell_type": "code",
      "source": [
        "movies = {\n",
        "    \"Movie1\": {\"rating\": 4.5},\n",
        "    \"Movie2\": {\"rating\": 3.8}\n",
        "}\n",
        "\n",
        "def add_rating(movie_name, rating):\n",
        "    if movie_name in movies:\n",
        "        movies[movie_name][\"rating\"] = rating\n",
        "    else:\n",
        "        movies[movie_name] = {\"rating\": rating}\n",
        "\n",
        "add_rating(\"Movie3\", 4.2)\n",
        "print(movies)"
      ],
      "metadata": {
        "colab": {
          "base_uri": "https://localhost:8080/"
        },
        "id": "P8J4EsYu4v6c",
        "outputId": "4abe5eac-7596-41a7-fcdb-5c8fba09e244"
      },
      "execution_count": 35,
      "outputs": [
        {
          "output_type": "stream",
          "name": "stdout",
          "text": [
            "{'Movie1': {'rating': 4.5}, 'Movie2': {'rating': 3.8}, 'Movie3': {'rating': 4.2}}\n"
          ]
        }
      ]
    },
    {
      "cell_type": "code",
      "source": [
        "movies = [\n",
        "    {\"title\": \"Inception\", \"year\": 2010, \"ratings\": [8, 9, 10, 9]},\n",
        "    {\"title\": \"Titanic\", \"year\": 1997, \"ratings\": [9, 8, 9, 10]},\n",
        "    {\"title\": \"The Matrix\", \"year\": 1999, \"ratings\": [10, 9, 10, 10]},\n",
        "    {\"title\": \"Interstellar\", \"year\": 2014, \"ratings\": [9, 8, 10, 9]}\n",
        "]\n",
        "\n",
        "movies.append({\"title\": \"Marcus\", \"year\": 2000, \"ratings\": [8, 9, 6, 7]})\n",
        "\n",
        "print(movies)"
      ],
      "metadata": {
        "colab": {
          "base_uri": "https://localhost:8080/"
        },
        "id": "JOjFvx8u8C8Y",
        "outputId": "a907e571-25ad-4b9e-f193-747ef7b14dba"
      },
      "execution_count": 58,
      "outputs": [
        {
          "output_type": "stream",
          "name": "stdout",
          "text": [
            "[{'title': 'Inception', 'year': 2010, 'ratings': [8, 9, 10, 9]}, {'title': 'Titanic', 'year': 1997, 'ratings': [9, 8, 9, 10]}, {'title': 'The Matrix', 'year': 1999, 'ratings': [10, 9, 10, 10]}, {'title': 'Interstellar', 'year': 2014, 'ratings': [9, 8, 10, 9]}, {'title': 'Marcus', 'year': 2000, 'ratings': [8, 9, 6, 7]}]\n"
          ]
        }
      ]
    },
    {
      "cell_type": "code",
      "source": [
        "for movie in movies:\n",
        "    average_rating = sum(movie[\"ratings\"]) / len(movie[\"ratings\"])\n",
        "    print(f\"Title: {movie['title']}, Average Rating: {average_rating:.2f}\")"
      ],
      "metadata": {
        "colab": {
          "base_uri": "https://localhost:8080/"
        },
        "id": "BWFDd5q48FW9",
        "outputId": "da1c0e6d-329a-4901-bba5-1ec11b83d7e8"
      },
      "execution_count": 59,
      "outputs": [
        {
          "output_type": "stream",
          "name": "stdout",
          "text": [
            "Title: Inception, Average Rating: 9.00\n",
            "Title: Titanic, Average Rating: 9.00\n",
            "Title: The Matrix, Average Rating: 9.75\n",
            "Title: Interstellar, Average Rating: 9.00\n",
            "Title: Marcus, Average Rating: 7.50\n"
          ]
        }
      ]
    },
    {
      "cell_type": "code",
      "source": [
        "inception = {\n",
        "    \"title\": \"Inception\",\n",
        "    \"year\": 2010,\n",
        "    \"ratings\": []\n",
        "}\n",
        "inception[\"ratings\"].append(9)\n",
        "inception[\"ratings\"].append(8)\n",
        "inception[\"ratings\"].append(10)\n",
        "\n",
        "print(f\"Title: {inception['title']}\")\n",
        "print(f\"Year: {inception['year']}\")\n",
        "print(f\"Ratings: {inception['ratings']}\")\n"
      ],
      "metadata": {
        "colab": {
          "base_uri": "https://localhost:8080/"
        },
        "id": "oQ0jjKu18ZFG",
        "outputId": "b73056ff-1d5d-4cbb-b8a9-0e726cc8c72a"
      },
      "execution_count": 61,
      "outputs": [
        {
          "output_type": "stream",
          "name": "stdout",
          "text": [
            "Title: Inception\n",
            "Year: 2010\n",
            "Ratings: [9, 8, 10]\n"
          ]
        }
      ]
    },
    {
      "cell_type": "code",
      "source": [
        "average_rating = sum(inception[\"ratings\"]) / len(inception[\"ratings\"])\n",
        "print(f\"Average Rating: {average_rating:.2f}\")"
      ],
      "metadata": {
        "colab": {
          "base_uri": "https://localhost:8080/"
        },
        "id": "_xNORmBb93dv",
        "outputId": "44f9a6fe-2022-4576-a631-eb6d6e1e4ea7"
      },
      "execution_count": 62,
      "outputs": [
        {
          "output_type": "stream",
          "name": "stdout",
          "text": [
            "Average Rating: 9.00\n"
          ]
        }
      ]
    },
    {
      "cell_type": "code",
      "source": [
        "movie[\"title\"] = \"New Inception\"\n",
        "movie[\"year\"]=\"2012\"\n",
        "print(movie)"
      ],
      "metadata": {
        "colab": {
          "base_uri": "https://localhost:8080/"
        },
        "id": "ko_xjEDQ9_U6",
        "outputId": "8b74db90-f015-4a71-ff07-10a1213f42b0"
      },
      "execution_count": 63,
      "outputs": [
        {
          "output_type": "stream",
          "name": "stdout",
          "text": [
            "{'title': 'New Inception', 'year': '2012', 'ratings': [8, 9, 6, 7]}\n"
          ]
        }
      ]
    },
    {
      "cell_type": "code",
      "source": [
        "movies = [\n",
        "    {\"title\": \"Inception\", \"rating\": 9.0},\n",
        "    {\"title\": \"The Matrix\", \"rating\": 9.5},\n",
        "    {\"title\": \"Interstellar\", \"rating\": 8.5}\n",
        "]\n",
        "\n",
        "highest_rating = 0\n",
        "highest_rated_movie = \"\"\n",
        "\n",
        "for movie in movies:\n",
        "    if movie[\"rating\"] > highest_rating:\n",
        "        highest_rating = movie[\"rating\"]\n",
        "        highest_rated_movie = movie[\"title\"]\n",
        "\n",
        "print(f\"Highest Rated Movie: {highest_rated_movie}\")\n",
        "print(f\"Rating: {highest_rating}\")"
      ],
      "metadata": {
        "colab": {
          "base_uri": "https://localhost:8080/"
        },
        "id": "fW_uKPx_BfiN",
        "outputId": "111dd393-250e-4469-e137-33fdb9ee285c"
      },
      "execution_count": 65,
      "outputs": [
        {
          "output_type": "stream",
          "name": "stdout",
          "text": [
            "Highest Rated Movie: The Matrix\n",
            "Rating: 9.5\n"
          ]
        }
      ]
    },
    {
      "cell_type": "code",
      "source": [
        "movies = [movie for movie in movies if movie[\"title\"] != \"The Matrix\"]\n",
        "\n",
        "print(movies)"
      ],
      "metadata": {
        "colab": {
          "base_uri": "https://localhost:8080/"
        },
        "id": "6X_ekvjaB0HP",
        "outputId": "eb5300e1-6b7e-44f5-a2b1-247e13d84bac"
      },
      "execution_count": 66,
      "outputs": [
        {
          "output_type": "stream",
          "name": "stdout",
          "text": [
            "[{'title': 'Inception', 'rating': 9.0}, {'title': 'Interstellar', 'rating': 8.5}]\n"
          ]
        }
      ]
    },
    {
      "cell_type": "code",
      "source": [
        "movies = [\n",
        "    {\"title\": \"Inception\", \"ratings\": [9, 8, 9]},\n",
        "    {\"title\": \"The Matrix\", \"ratings\": [10, 9, 10]},\n",
        "    {\"title\": \"Interstellar\", \"ratings\": [8, 7, 9]},\n",
        "    {\"title\": \"Titanic\", \"ratings\": [9, 9, 10]}\n",
        "]\n",
        "highly_rated_movies = [\n",
        "    movie[\"title\"]\n",
        "    for movie in movies\n",
        "    if sum(movie[\"ratings\"]) / len(movie[\"ratings\"]) >= 9\n",
        "]\n",
        "\n",
        "print(highly_rated_movies)"
      ],
      "metadata": {
        "colab": {
          "base_uri": "https://localhost:8080/"
        },
        "id": "tszWZtW4CbDN",
        "outputId": "6c62fefd-ff7a-4b1e-8653-220d1613264b"
      },
      "execution_count": 68,
      "outputs": [
        {
          "output_type": "stream",
          "name": "stdout",
          "text": [
            "['The Matrix', 'Titanic']\n"
          ]
        }
      ]
    }
  ]
}